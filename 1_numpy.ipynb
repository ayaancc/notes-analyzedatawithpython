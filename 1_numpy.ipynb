{
  "nbformat": 4,
  "nbformat_minor": 0,
  "metadata": {
    "colab": {
      "provenance": []
    },
    "kernelspec": {
      "name": "python3",
      "display_name": "Python 3"
    },
    "language_info": {
      "name": "python"
    }
  },
  "cells": [
    {
      "cell_type": "markdown",
      "source": [
        "# Section 1: Introduction to NumPy\n",
        "* NumPy allows us to work with large sets of numbers and calculate statistical properties\n",
        "* Some uses for NumPy include effficiently working with many numbers, generating random numbers, and performing numerical functions\n",
        "* A NumPy array is a special list, because it can be used to do efficient computations\n",
        "\n"
      ],
      "metadata": {
        "id": "0C_9GwVmPBja"
      }
    },
    {
      "cell_type": "code",
      "source": [
        "import numpy as np\n",
        "my_array = np.array([1,2,3])\n",
        "# Here's how to convert a regular list to a NumPy array:\n",
        "my_list = [1,2,3]\n",
        "my_array = np.array(my_list)"
      ],
      "metadata": {
        "id": "jll7fZAVXr0K"
      },
      "execution_count": null,
      "outputs": []
    },
    {
      "cell_type": "markdown",
      "source": [
        "* Typically, you won't enter data directly, instead you'd be importing it\n",
        "* NumPy allows you to import from a csv file using the `np.genfromtxt()` function"
      ],
      "metadata": {
        "id": "pwIuvULZYbml"
      }
    },
    {
      "cell_type": "code",
      "source": [
        "# Consider a CSV file with this data: 34, 9, 12\n",
        "# Here is how we'd import it to NumPy:\n",
        "csv_array = np.genfromtxt(\"sample.txt\", delimiter=\",\")"
      ],
      "metadata": {
        "id": "Q68lcGfNYp7o"
      },
      "execution_count": null,
      "outputs": []
    },
    {
      "cell_type": "markdown",
      "source": [
        "* In a normal python list, you'd have to iterate through it to do operations\n",
        "* With NumPy, you can easily perform operations on an entire list:"
      ],
      "metadata": {
        "id": "E1PPzBzTY-6L"
      }
    },
    {
      "cell_type": "code",
      "source": [
        "a = np.array([1,2,3])\n",
        "a+3"
      ],
      "metadata": {
        "colab": {
          "base_uri": "https://localhost:8080/"
        },
        "id": "qaxDwn_8ZJDK",
        "outputId": "6c1fef89-ae94-497b-f396-67428ccc68c7"
      },
      "execution_count": null,
      "outputs": [
        {
          "output_type": "execute_result",
          "data": {
            "text/plain": [
              "array([4, 5, 6])"
            ]
          },
          "metadata": {},
          "execution_count": 8
        }
      ]
    },
    {
      "cell_type": "markdown",
      "source": [
        "* Assuming two arrays have the same number of elements, you can also add or subtract arrays relative to eachother"
      ],
      "metadata": {
        "id": "uSs-XvVKZdvt"
      }
    },
    {
      "cell_type": "code",
      "source": [
        "a = np.array([1,2,3])\n",
        "b = np.array([4,5,6])\n",
        "a+b"
      ],
      "metadata": {
        "colab": {
          "base_uri": "https://localhost:8080/"
        },
        "id": "r1Xk1TFEZkNx",
        "outputId": "f30e6b11-0b4a-46ca-81ca-cac57cdbce55"
      },
      "execution_count": null,
      "outputs": [
        {
          "output_type": "execute_result",
          "data": {
            "text/plain": [
              "array([5, 7, 9])"
            ]
          },
          "metadata": {},
          "execution_count": 7
        }
      ]
    },
    {
      "cell_type": "markdown",
      "source": [
        "* Similarly to two dimensional lists, you can create two dimensional arrays\n",
        "* To select elements from a 1-D array, use the same method as a python list\n",
        "* The same applies to 2-D arrays\n",
        "* To select an entire row or column, use `:`\n",
        "* A new concept in NumPy is performing logical operations on arrays:\n"
      ],
      "metadata": {
        "id": "G7FEtSA5aBRS"
      }
    },
    {
      "cell_type": "code",
      "source": [
        "a = np.array([1,2,3,4])\n",
        "print(a[(a>1) & (a<4)])"
      ],
      "metadata": {
        "colab": {
          "base_uri": "https://localhost:8080/"
        },
        "id": "kFEWGSwfb4fp",
        "outputId": "666602fc-c30b-47eb-c4aa-f8ef2f067868"
      },
      "execution_count": null,
      "outputs": [
        {
          "output_type": "stream",
          "name": "stdout",
          "text": [
            "[2 3]\n"
          ]
        }
      ]
    },
    {
      "cell_type": "markdown",
      "source": [
        "# Section 2: Statistics in NumPy\n",
        "* Most statistical operators in NumPy are very self explanatory: `np.mean`, `np.median`, etc\n",
        "* You can use `np.mean` to calculate the percentage of array elements that have a certain property\n",
        "* The following code will find the percentage of the array that's above 8:"
      ],
      "metadata": {
        "id": "58L_l7cxcPZy"
      }
    },
    {
      "cell_type": "code",
      "source": [
        "a = np.array([1,2,3,4,5,6,7,8,9,10])\n",
        "np.mean(a>8)"
      ],
      "metadata": {
        "colab": {
          "base_uri": "https://localhost:8080/"
        },
        "id": "vVh1x6TlkIMm",
        "outputId": "45958521-e8ff-4589-8b4b-bcd029a9d4f9"
      },
      "execution_count": 14,
      "outputs": [
        {
          "output_type": "execute_result",
          "data": {
            "text/plain": [
              "0.2"
            ]
          },
          "metadata": {},
          "execution_count": 14
        }
      ]
    },
    {
      "cell_type": "markdown",
      "source": [
        "* If we have a 2-D array, `np.mean` can calculate the means of the full array, as well as interior values"
      ],
      "metadata": {
        "id": "NzcwWxgskcpP"
      }
    },
    {
      "cell_type": "code",
      "source": [
        "a = np.array([[1, 0, 0],\n",
        "              [0, 0, 1],\n",
        "              [1, 0, 1]])\n",
        "print(np.mean(a))\n",
        "print(np.mean(a, axis=0)) # This will find the mean of the columns\n",
        "print(np.mean(a, axis=1)) # This will find the mean of the rows"
      ],
      "metadata": {
        "colab": {
          "base_uri": "https://localhost:8080/"
        },
        "id": "pZP0HAEPkm0-",
        "outputId": "191aff1e-2287-488a-acbc-0be1b4a4243d"
      },
      "execution_count": 20,
      "outputs": [
        {
          "output_type": "stream",
          "name": "stdout",
          "text": [
            "0.4444444444444444\n",
            "[0.66666667 0.         0.66666667]\n",
            "[0.33333333 0.33333333 0.66666667]\n"
          ]
        }
      ]
    },
    {
      "cell_type": "markdown",
      "source": [
        "* `np.sort` will sort data from smallest to largest\n",
        "* A big concept in NumPy involves percentiles and quantiles\n",
        "* A percentile is the point where n% of samples are below\n",
        "* You can calculate these with `np.percentile`\n",
        "* NumPy has several options for generating random numbers: `np.random.normal` is one of them\n",
        "* It takes the following arguments: `loc`: the mean, `scale`: the standard deviation, `size`: the number of numbers to generate\n",
        "* `np.random.binomial` provides a binomial distribution, which can be used for probability\n",
        "* It takes the following arguments: `N`: number of samples, `P`: probability of success, `size`: number of experiments\n",
        "* By pairing this with the `np.mean` method from earlier, you can calculate probabilities\n",
        "* Let's take the example of a basketball player who normally shoots 80% on free throws. Tonight he shot 10 and made 9. What's the probability of this?"
      ],
      "metadata": {
        "id": "Vex5DgtClfHD"
      }
    },
    {
      "cell_type": "code",
      "source": [
        "sample = np.random.binomial(10,0.8,10000) # He shot 10, normally shoots 80%, and we can run 10,000 tests\n",
        "np.mean(sample == 9)"
      ],
      "metadata": {
        "colab": {
          "base_uri": "https://localhost:8080/"
        },
        "id": "cmqHNUISuAUe",
        "outputId": "abc38ddd-9d4a-48b5-fd84-114eee030566"
      },
      "execution_count": 21,
      "outputs": [
        {
          "output_type": "execute_result",
          "data": {
            "text/plain": [
              "0.269"
            ]
          },
          "metadata": {},
          "execution_count": 21
        }
      ]
    },
    {
      "cell_type": "markdown",
      "source": [
        "* The result was a 26.9% chance of him making 9 out of 10\n"
      ],
      "metadata": {
        "id": "D0c2cOlRuS8-"
      }
    }
  ]
}