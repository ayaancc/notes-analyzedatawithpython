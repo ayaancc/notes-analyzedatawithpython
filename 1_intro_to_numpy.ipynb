{
  "nbformat": 4,
  "nbformat_minor": 0,
  "metadata": {
    "colab": {
      "provenance": []
    },
    "kernelspec": {
      "name": "python3",
      "display_name": "Python 3"
    },
    "language_info": {
      "name": "python"
    }
  },
  "cells": [
    {
      "cell_type": "markdown",
      "source": [
        "# Section 1: Introduction to NumPy\n",
        "* NumPy allows us to work with large sets of numbers and calculate statistical properties\n",
        "* Some uses for NumPy include effficiently working with many numbers, generating random numbers, and performing numerical functions\n",
        "* A NumPy array is a special list, because it can be used to do efficient computations\n",
        "\n"
      ],
      "metadata": {
        "id": "0C_9GwVmPBja"
      }
    },
    {
      "cell_type": "code",
      "source": [
        "import numpy as np\n",
        "my_array = np.array([1,2,3])\n",
        "# Here's how to convert a regular list to a NumPy array:\n",
        "my_list = [1,2,3]\n",
        "my_array = np.array(my_list)"
      ],
      "metadata": {
        "id": "jll7fZAVXr0K"
      },
      "execution_count": 2,
      "outputs": []
    },
    {
      "cell_type": "markdown",
      "source": [
        "* Typically, you won't enter data directly, instead you'd be importing it\n",
        "* NumPy allows you to import from a csv file using the `np.genfromtxt()` function"
      ],
      "metadata": {
        "id": "pwIuvULZYbml"
      }
    },
    {
      "cell_type": "code",
      "source": [
        "# Consider a CSV file with this data: 34, 9, 12\n",
        "# Here is how we'd import it to NumPy:\n",
        "csv_array = np.genfromtxt(\"sample.txt\", delimiter=\",\")"
      ],
      "metadata": {
        "id": "Q68lcGfNYp7o"
      },
      "execution_count": null,
      "outputs": []
    },
    {
      "cell_type": "markdown",
      "source": [
        "* In a normal python list, you'd have to iterate through it to do operations\n",
        "* With NumPy, you can easily perform operations on an entire list:"
      ],
      "metadata": {
        "id": "E1PPzBzTY-6L"
      }
    },
    {
      "cell_type": "code",
      "source": [
        "a = np.array([1,2,3])\n",
        "a+3"
      ],
      "metadata": {
        "colab": {
          "base_uri": "https://localhost:8080/"
        },
        "id": "qaxDwn_8ZJDK",
        "outputId": "6c1fef89-ae94-497b-f396-67428ccc68c7"
      },
      "execution_count": 8,
      "outputs": [
        {
          "output_type": "execute_result",
          "data": {
            "text/plain": [
              "array([4, 5, 6])"
            ]
          },
          "metadata": {},
          "execution_count": 8
        }
      ]
    },
    {
      "cell_type": "markdown",
      "source": [
        "* Assuming two arrays have the same number of elements, you can also add or subtract arrays relative to eachother"
      ],
      "metadata": {
        "id": "uSs-XvVKZdvt"
      }
    },
    {
      "cell_type": "code",
      "source": [
        "a = np.array([1,2,3])\n",
        "b = np.array([4,5,6])\n",
        "a+b"
      ],
      "metadata": {
        "colab": {
          "base_uri": "https://localhost:8080/"
        },
        "id": "r1Xk1TFEZkNx",
        "outputId": "f30e6b11-0b4a-46ca-81ca-cac57cdbce55"
      },
      "execution_count": 7,
      "outputs": [
        {
          "output_type": "execute_result",
          "data": {
            "text/plain": [
              "array([5, 7, 9])"
            ]
          },
          "metadata": {},
          "execution_count": 7
        }
      ]
    },
    {
      "cell_type": "markdown",
      "source": [
        "* Similarly to two dimensional lists, you can create two dimensional arrays\n",
        "* To select elements from a 1-D array, use the same method as a python list\n",
        "* The same applies to 2-D arrays\n",
        "* To select an entire row or column, use `:`\n",
        "* A new concept in NumPy is performing logical operations on arrays:\n"
      ],
      "metadata": {
        "id": "G7FEtSA5aBRS"
      }
    },
    {
      "cell_type": "code",
      "source": [
        "a = np.array([1,2,3,4])\n",
        "print(a[(a>1) & (a<4)])"
      ],
      "metadata": {
        "colab": {
          "base_uri": "https://localhost:8080/"
        },
        "id": "kFEWGSwfb4fp",
        "outputId": "666602fc-c30b-47eb-c4aa-f8ef2f067868"
      },
      "execution_count": 13,
      "outputs": [
        {
          "output_type": "stream",
          "name": "stdout",
          "text": [
            "[2 3]\n"
          ]
        }
      ]
    },
    {
      "cell_type": "markdown",
      "source": [],
      "metadata": {
        "id": "58L_l7cxcPZy"
      }
    },
    {
      "cell_type": "markdown",
      "source": [],
      "metadata": {
        "id": "vh-l46Anb8AI"
      }
    }
  ]
}